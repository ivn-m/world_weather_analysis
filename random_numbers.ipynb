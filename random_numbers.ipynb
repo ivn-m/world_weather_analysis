{
 "cells": [
  {
   "cell_type": "code",
   "execution_count": 17,
   "id": "f475ef2f",
   "metadata": {},
   "outputs": [],
   "source": [
    "# Import dependencies\n",
    "\n",
    "import random\n",
    "import numpy as np\n",
    "import timeit"
   ]
  },
  {
   "cell_type": "code",
   "execution_count": 2,
   "id": "dd30adaa",
   "metadata": {},
   "outputs": [
    {
     "data": {
      "text/plain": [
       "83"
      ]
     },
     "execution_count": 2,
     "metadata": {},
     "output_type": "execute_result"
    }
   ],
   "source": [
    "# .randint() function\n",
    "## This function will only return one integer, not a floating-point decimal, between the given intervals.\n",
    "\n",
    "random.randint(-90,90)"
   ]
  },
  {
   "cell_type": "code",
   "execution_count": 3,
   "id": "2b56d90c",
   "metadata": {},
   "outputs": [
    {
     "data": {
      "text/plain": [
       "0.05865993298209604"
      ]
     },
     "execution_count": 3,
     "metadata": {},
     "output_type": "execute_result"
    }
   ],
   "source": [
    "# .random() function\n",
    "## This function returns a single floating-point decimal number between 0 and 1.0\n",
    "\n",
    "random.random()"
   ]
  },
  {
   "cell_type": "code",
   "execution_count": 8,
   "id": "0eb45648",
   "metadata": {},
   "outputs": [
    {
     "data": {
      "text/plain": [
       "[-40.01058902887016,\n",
       " -1.769659088378371,\n",
       " 28.634899845882057,\n",
       " 32.73586169939522,\n",
       " 29.017827655973715,\n",
       " 64.69992282676348,\n",
       " 80.05640497298005,\n",
       " 55.043691097996266,\n",
       " -67.21701238207946,\n",
       " 59.18433431860891]"
      ]
     },
     "execution_count": 8,
     "metadata": {},
     "output_type": "execute_result"
    }
   ],
   "source": [
    "# Using the two functions above to write an algorith that will generate latitudes between -90 and 89\n",
    "\n",
    "x = 1\n",
    "latitudes = []\n",
    "while x < 11:\n",
    "    random_lat = random.randint(-90, 89) + random.random()\n",
    "    latitudes.append(random_lat)\n",
    "    x += 1\n",
    "\n",
    "latitudes"
   ]
  },
  {
   "cell_type": "code",
   "execution_count": 11,
   "id": "1d570926",
   "metadata": {},
   "outputs": [
    {
     "data": {
      "text/plain": [
       "-12"
      ]
     },
     "execution_count": 11,
     "metadata": {},
     "output_type": "execute_result"
    }
   ],
   "source": [
    "# .randrange() function\n",
    "random.randrange(-90,90, step=3)\n",
    "\n",
    "## The output is a number between -90 and 90, where the difference between each number in the sequence is 3."
   ]
  },
  {
   "cell_type": "code",
   "execution_count": 12,
   "id": "9d28c29c",
   "metadata": {},
   "outputs": [
    {
     "data": {
      "text/plain": [
       "-1.342389251489294"
      ]
     },
     "execution_count": 12,
     "metadata": {},
     "output_type": "execute_result"
    }
   ],
   "source": [
    "# .uniform() function\n",
    "## function will allow us to generate a floating-point decimal number between two given numbers inside the parentheses.\n",
    "\n",
    "random.uniform(-90, 90)"
   ]
  },
  {
   "cell_type": "code",
   "execution_count": 21,
   "id": "3c0edabe",
   "metadata": {},
   "outputs": [
    {
     "name": "stdout",
     "output_type": "stream",
     "text": [
      "14.4 µs ± 495 ns per loop (mean ± std. dev. of 7 runs, 100000 loops each)\n"
     ]
    }
   ],
   "source": [
    "# NumPy method\n",
    "%timeit np.random.uniform(-90.000, 90.000, size=1500)"
   ]
  },
  {
   "cell_type": "code",
   "execution_count": 22,
   "id": "36776b49",
   "metadata": {},
   "outputs": [
    {
     "name": "stdout",
     "output_type": "stream",
     "text": [
      "2.1 ms ± 83.8 µs per loop (mean ± std. dev. of 7 runs, 100 loops each)\n"
     ]
    }
   ],
   "source": [
    "def latitudes(size):\n",
    "    latitudes = []\n",
    "    x = 0\n",
    "    while x < (size):\n",
    "        random_lat = random.randint(-90, 90) + random.random()\n",
    "        latitudes.append(random_lat)\n",
    "        x += 1\n",
    "    return latitudes\n",
    "# Call the function with 1500.\n",
    "%timeit latitudes(1500)"
   ]
  },
  {
   "cell_type": "code",
   "execution_count": null,
   "id": "0db95613",
   "metadata": {},
   "outputs": [],
   "source": []
  }
 ],
 "metadata": {
  "kernelspec": {
   "display_name": "PythonData",
   "language": "python",
   "name": "pythondata"
  },
  "language_info": {
   "codemirror_mode": {
    "name": "ipython",
    "version": 3
   },
   "file_extension": ".py",
   "mimetype": "text/x-python",
   "name": "python",
   "nbconvert_exporter": "python",
   "pygments_lexer": "ipython3",
   "version": "3.7.11"
  }
 },
 "nbformat": 4,
 "nbformat_minor": 5
}
